{
 "cells": [
  {
   "cell_type": "markdown",
   "metadata": {},
   "source": [
    "\n",
    "# CS 6601: Artificial Intelligence - Assignment 4 - Decision Trees and Forests\n",
    "\n",
    "\n",
    "## Setup\n",
    "Clone this repository:\n",
    "\n",
    "`git clone https://github.gatech.edu/omscs6601/assignment_4.git`\n",
    "\n",
    "For this assignment, you will need Numpy, No other external libraries are allowed for solving this problem.\n",
    "\n",
    "Please use the same environment from previous assignments by running\n",
    "```\n",
    "conda activate ai_env\n",
    "```\n",
    "\n",
    "And then you can install missing packages with :\n",
    "```\n",
    "pip install -r requirements.txt\n",
    "```\n",
    "Python 3.7 is recommended and has been tested.\n",
    "\n",
    "## Overview\n",
    "Machine learning offers a number of methods for classifying data into discrete categories, such as k-means clustering. Decision trees provide a structure for such categorization, based on a series of decisions that led to separate distinct outcomes. In this assignment, you will work with decision trees to perform binary classification according to some decision boundary. Your challenge is to build and to train decision trees capable of solving useful classification problems. You will learn first how to build decision trees, then how to effectively train them and finally how to test their performance.\n",
    "\n",
    "<p>\n",
    "<img src=\"./files/dt.png\" alt=\"Decision Trees\" width=\"700\" height=\"350\"/>\n",
    "\n",
    "\n",
    "## Submission and Due Date\n",
    "\n",
    "The deliverable for the assignment is a **_submission.py_** upload to Gradescope.\n",
    "\n",
    "* All functions to be completed in **_submission.py_**\n",
    "\n",
    "**Important**:\n",
    "Submissions to Gradescope are rate limited for this assignment. **You can submit two submissions every 60 minutes during the duration of the assignment**.\n",
    "\n",
    "In your Gradescope submission history, you can mark a certain submission as 'Active'. Please ensure this is your best submission.\n",
    "\n",
    "### The Files\n",
    "\n",
    "You will only have to edit and submit **_submission.py_**, but there are a number of notable other files:\n",
    "1. **_submission.py_**: Where you will build your decision tree, confusion matrix, performance metrics, forests, and do the vectorization warm up.\n",
    "2. **_decision_trees_submission_tests.py_**: Sample tests to validate your trees, learning, and vectorization locally.\n",
    "3. **_unit_testing.ipynb_**: Helper Notebook to run through tests sequentially along with the readme\n",
    "\n",
    "### Resources\n",
    "Udacity Videos:\n",
    "[Lecture 7 on Machine Learning](https://classroom.udacity.com/courses/ud954/lessons/6808838653/concepts/67917548570923)  \n",
    "\n",
    "### Decision Tree Datasets\n",
    "1. **_part23_data.csv_**: 4 features, 1372 data points, binary classification (last column)\n",
    "2. **_challenge_train.csv_**:  30 features, 6636 datapoints, binary classification (first column)\n",
    "3. **_challenge_test.csv_**: (will not be provided, but will be similarly structured as challenge_train with 40% of the datapoints)\n",
    "\n",
    "#### Assignment 5 warmup Data\n",
    "4. **_vectorize.csv_**: data used during the vectorization warmup for Assignment 5\n",
    "\n",
    "\n",
    "### Imports\n",
    "**NOTE:** We are only allowing four imports: __ future__.division, numpy, collections.Counter and time. We will be checking to see if any other libraries are used. You are not allowed to use any outside libraries especially for part 4 (challenge). Please remember that you should not change any function headers.\n",
    "\n",
    "\n",
    "# HOW TO USE THIS NOTEBOOK\n",
    "\n",
    "## This notebook is meant to help structure your coding for the assignment, all it does is align the relevant tests for each section in a convenient format. Code Changes should still be made in submission.py. This notebook *should* dynamically reload your file for each test (please let us know if it doesnt). You do not need to submit this notebook, nor do you need to use it if you prefer running the unit tests from the command line. Remember to read the unit tests to understand what you are passing.\n",
    "\n",
    "\n",
    "\n"
   ]
  },
  {
   "cell_type": "code",
   "execution_count": null,
   "metadata": {},
   "outputs": [],
   "source": [
    "### Setting Up some utilities for testing:\n",
    "from __future__ import division\n",
    "\n",
    "import unittest\n",
    "import submission as dt\n",
    "import numpy as np\n",
    "import importlib\n",
    "import decision_trees_submission_tests"
   ]
  },
  {
   "cell_type": "code",
   "execution_count": null,
   "metadata": {},
   "outputs": [],
   "source": [
    "\n",
    "def single_tester(test, case):\n",
    "    importlib.reload(dt)\n",
    "    importlib.reload(decision_trees_submission_tests)\n",
    "    if test == decision_trees_submission_tests.DecisionTreePart1Tests:\n",
    "        print(\"Running Decision Tree Part 1 Test: {}\".format(case))\n",
    "    elif test == decision_trees_submission_tests.DecisionTreePart2Tests:\n",
    "        print(\"Running Decision Tree Part 2Test: {}\".format(case))\n",
    "    elif test == decision_trees_submission_tests.VectorizationWarmUpTests:\n",
    "        print(\"Running Vectoriization Warmup Tests: {}\".format(case))\n",
    "    elif test == decision_trees_submission_tests.NameTests:\n",
    "        print(\"Name Test: {}\".format(case))\n",
    "        \n",
    "    suite = unittest.TestSuite()\n",
    "    suite.addTest(test(case))\n",
    "    runner = unittest.TextTestRunner()\n",
    "    runner.run(suite)"
   ]
  },
  {
   "cell_type": "markdown",
   "metadata": {},
   "source": [
    "### Part 0: Vectorization!\n",
    "_[6 pts]_\n",
    "\n",
    "* File to use: **_vectorize.csv_**\n",
    "\n",
    "Vectorization is a process that provides enormous performance increases when processing large amounts of data. Whether one is training a deep neural network on millions of images, building random forests over a large dataset, or utilizing other algorithms, machine learning makes _extensive_ use of vectorization. In python, the **numpy** package provides a programmer with the ability to use python-wrapped, low-level optimizations written in C, however, the technique may feel strange at first and requires some practice to use comfortably.\n",
    "\n",
    "The data management in Assignment 4 can benefit from familiarity with these techniques. Additionally, Assignment 5 has a vectorization requirement so that it can run within a reasonable time limit. This small section will hopefully introduce you to vectorization and some of the cool tricks you can use in python. We encourage you to use any numpy function out there (on good faith) to do the functions in the warmup section.\n",
    "\n",
    "For the three functions that we have, we are testing your code based on how fast it runs. It will need to beat the non-vectorized code to get full points.\n",
    "\n",
    "As a reminder, please don't ask the TA's for help regarding this section, we will not be able to assist you in any way. This section was created to help get you ready for the assignment; feel free to ask other students on Piazza or use the Internet.\n",
    "\n",
    "How grading works:\n",
    "1. We run the non-vectorized code and your vectorized code 500 times, as long as the average time of your vectorized code is less than the average time of the non-vectorized code, you will get the points (given that your answer is correct).\n",
    "\n",
    "#### Functions to complete in the `Vectorization` class:\n",
    "1. `vectorized_loops()`"
   ]
  },
  {
   "cell_type": "code",
   "execution_count": null,
   "metadata": {},
   "outputs": [],
   "source": [
    "single_tester(decision_trees_submission_tests.VectorizationWarmUpTests, 'test_vectorized_loops')"
   ]
  },
  {
   "cell_type": "code",
   "execution_count": null,
   "metadata": {},
   "outputs": [],
   "source": [
    "single_tester(decision_trees_submission_tests.VectorizationWarmUpTests, 'test_vectorized_loops_time')"
   ]
  },
  {
   "cell_type": "markdown",
   "metadata": {},
   "source": [
    "2. `vectorized_slice()`"
   ]
  },
  {
   "cell_type": "code",
   "execution_count": null,
   "metadata": {},
   "outputs": [],
   "source": [
    "single_tester(decision_trees_submission_tests.VectorizationWarmUpTests, 'test_vectorized_slice')"
   ]
  },
  {
   "cell_type": "code",
   "execution_count": null,
   "metadata": {},
   "outputs": [],
   "source": [
    "single_tester(decision_trees_submission_tests.VectorizationWarmUpTests, 'test_vectorized_slice_time')"
   ]
  },
  {
   "cell_type": "markdown",
   "metadata": {},
   "source": [
    "3. `vectorized_flatten()`"
   ]
  },
  {
   "cell_type": "code",
   "execution_count": null,
   "metadata": {},
   "outputs": [],
   "source": [
    "single_tester(decision_trees_submission_tests.VectorizationWarmUpTests, 'test_vectorized_flatten')"
   ]
  },
  {
   "cell_type": "code",
   "execution_count": null,
   "metadata": {},
   "outputs": [],
   "source": [
    "single_tester(decision_trees_submission_tests.VectorizationWarmUpTests, 'test_vectorized_flatten_time')"
   ]
  },
  {
   "cell_type": "markdown",
   "metadata": {},
   "source": [
    "## The Assignment\n",
    "Classification is used widely in machine learning to figure out how to sort new data that comes through.  You will build, train and test decision tree models to perform basic classification tasks. Students should understand how decision trees and random forests work. This will help you develop an intuition for how and why accuracy differs for training and testing data based on different parameters.\n",
    "\n",
    "### Introduction\n",
    "For this assignment we're going to need an explicit way to make structured decisions. The `DecisionNode` class will be used to represent a decision node as some atomic choice in a binary decision graph. We would only use this implementation of the Decision Tree for this assignment and any other implementations will be checked against and denied credit.\n",
    "\n",
    "An object from the 'DecisionNode' can represent a class label (i.e. a final decision) or a binary decision to guide us through a flow-chart to arrive at a decision. Note that in this representation 'True' values for a decision take us to the left. This choice is arbitrary, but this is used in the hint below.\n",
    "\n",
    "### Part 1a: Building a Binary Tree by Hand\n",
    "_[5 Pts]_\n",
    "\n",
    "In `build_decision_tree()`, construct a tree of decision nodes by hand in order to classify the data below, i.e. map each datum **x** to a label **y**.  Select tests to be as small as possible (in terms of attributes), breaking ties among tests with the same number of attributes by selecting the one that classifies the greatest number of examples correctly. If multiple tests have the same number of attributes and classify the same number of examples, then break the tie using attributes with lower index numbers (e.g. select **A1** over **A2**)\n",
    "<p>\n",
    "\n",
    "| Datum\t| A1  | A2  | A3  | A4  |  y  |\n",
    "| ----- | --- | --- | --- | --- | --- |\n",
    "| x1    |  1  |  0  |  0  |  0  |  1  |\n",
    "| x2    |  1  |  0  |  1  |  1  |  1  |\n",
    "| x3    |  0  |  1  |  0  |  0  |  1  |\n",
    "| x4    |  0  |  1  |  1  |  0  |  0  |\n",
    "| x5    |  1  |  1  |  0  |  1  |  1  |\n",
    "| x6    |  0  |  1  |  0  |  1  |  0  |\n",
    "| x7    |  0  |  0  |  1  |  1  |  1  |\n",
    "| x8    |  0  |  0  |  1  |  0  |  0  |\n",
    "\n",
    "#### Requirements:\n",
    "The tree nodes should be less than 10 nodes including the leaf (not the number of instances, but the actual nodes in the tree).\n",
    "\n",
    "#### Hints:\n",
    "To get started, it might help to **draw out the tree by hand** with each attribute representing a node.\n",
    "\n",
    "To create the decision function that will be passed to `DecisionNode`, you can create a lambda expression as follows:\n",
    "\n",
    "    func = lambda feature : feature[2] == 0\n",
    "\n",
    "This will choose the left node if the third attribute is 0.\n",
    "\n",
    "For example, a tree looks like this:\n",
    "\n",
    "> if A1=0 then class = 1; else class = 0\n",
    "> <p>\n",
    "> <img src=\"./files/tree_example.png\" alt=\"Tree Example\"/>\n",
    "\n",
    "You would write your code like this:\n",
    "\n",
    "    decision_tree_root = DecisionNode(None, None, lambda a1: a1 == 0)\n",
    "    decision_tree_root.left = DecisionNode(None, None, None, 1)\n",
    "    decision_tree_root.right = DecisionNode(None, None, None, 0)\n",
    "\n",
    "    return decision_tree_root\n",
    "\n",
    "#### Functions to complete in the `submission` module:\n",
    "1. `build_decision_tree()`\n",
    "\n",
    "---"
   ]
  },
  {
   "cell_type": "code",
   "execution_count": null,
   "metadata": {},
   "outputs": [],
   "source": [
    "single_tester(decision_trees_submission_tests.DecisionTreePart1Tests, 'test_hand_tree_accuracy')"
   ]
  },
  {
   "cell_type": "markdown",
   "metadata": {},
   "source": [
    "\n",
    "### Part 1b: Precision, Recall, Accuracy and Confusion Matrix\n",
    "_[12 pts]_\n",
    "\n",
    "Now that we have a decision tree, we're going to need some way to evaluate its performance. In most cases we would reserve a portion of the training data for evaluation, or use cross-validation. Fill out the methods to compute the confusion matrix, accuracy, precision and recall for your classifier output. `classifier_output` is just the list of labels that your classifier outputs, corresponding to the same examples as `true_labels`. You can refer to [Wikipedia](https://en.wikipedia.org/wiki/Confusion_matrix) for calculating the true/false positive/negative.\n",
    "\n",
    "If you want to calculate the example set above by hand, run the following code.\n",
    "\n",
    "    classifier_output = [decision_tree_root.decide(example) for example in examples]\n",
    "\n",
    "    p1_confusion_matrix = confusion_matrix(classifier_output, classes)\n",
    "    p1_accuracy = accuracy( classifier_output, classes )\n",
    "    p1_precision = precision(classifier_output, classes)\n",
    "    p1_recall = recall(classifier_output, classes)\n",
    "\n",
    "    print p1_confusion_matrix, p1_accuracy, p1_precision, p1_recall\n",
    "\n",
    "#### Functions to complete in the `submission` module:\n",
    "1. `confusion_matrix()`\n"
   ]
  },
  {
   "cell_type": "code",
   "execution_count": null,
   "metadata": {},
   "outputs": [],
   "source": [
    "single_tester(decision_trees_submission_tests.DecisionTreePart1Tests, 'test_confusion_matrix')"
   ]
  },
  {
   "cell_type": "markdown",
   "metadata": {},
   "source": [
    "2. `precision()`"
   ]
  },
  {
   "cell_type": "code",
   "execution_count": null,
   "metadata": {},
   "outputs": [],
   "source": [
    "single_tester(decision_trees_submission_tests.DecisionTreePart1Tests, 'test_precision_calculation')"
   ]
  },
  {
   "cell_type": "markdown",
   "metadata": {},
   "source": [
    "3. `recall()`"
   ]
  },
  {
   "cell_type": "code",
   "execution_count": null,
   "metadata": {},
   "outputs": [],
   "source": [
    "single_tester(decision_trees_submission_tests.DecisionTreePart1Tests, 'test_recall_calculation')"
   ]
  },
  {
   "cell_type": "markdown",
   "metadata": {},
   "source": [
    "4. `accuracy()`"
   ]
  },
  {
   "cell_type": "code",
   "execution_count": null,
   "metadata": {},
   "outputs": [],
   "source": [
    "single_tester(decision_trees_submission_tests.DecisionTreePart1Tests, 'test_accuracy_calculation')"
   ]
  },
  {
   "cell_type": "markdown",
   "metadata": {},
   "source": [
    "\n",
    "### Part 2a: Decision Tree Learning\n",
    "_[6 pts]_\n",
    "\n",
    "The first step in order to learn how best to create a decision tree, we need to know how well we are splitting the data. This is usually done by measuring the entropy of each split and using it to calculate information gain, but we'd like you to use GINI impurity instead of entropy for this assignment. We can do this by calculating the  `gini_impurity` and `gini_gain()` on the various splits (hints: [gini impurity](https://en.wikipedia.org/wiki/Decision_tree_learning#Gini_impurity) and [information gain](https://en.wikipedia.org/wiki/Information_gain_in_decision_trees)).The Gini Gain follows a similar approach to information gain, replacing entropy with Gini Impurity.\n",
    "\n",
    "<p>\n",
    "\n",
    "#### Functions to complete in the `submission` module:\n",
    "1. `gini_impurity()`\n",
    "\n"
   ]
  },
  {
   "cell_type": "code",
   "execution_count": null,
   "metadata": {},
   "outputs": [],
   "source": [
    "single_tester(decision_trees_submission_tests.DecisionTreePart2Tests, 'test_gini_impurity_max')"
   ]
  },
  {
   "cell_type": "code",
   "execution_count": null,
   "metadata": {},
   "outputs": [],
   "source": [
    "single_tester(decision_trees_submission_tests.DecisionTreePart2Tests, 'test_gini_impurity_min')"
   ]
  },
  {
   "cell_type": "code",
   "execution_count": null,
   "metadata": {},
   "outputs": [],
   "source": [
    "single_tester(decision_trees_submission_tests.DecisionTreePart2Tests, 'test_gini_impurity')"
   ]
  },
  {
   "cell_type": "markdown",
   "metadata": {},
   "source": [
    "2. `gini_gain()`"
   ]
  },
  {
   "cell_type": "code",
   "execution_count": null,
   "metadata": {},
   "outputs": [],
   "source": [
    "single_tester(decision_trees_submission_tests.DecisionTreePart2Tests, 'test_gini_gain')"
   ]
  },
  {
   "cell_type": "code",
   "execution_count": null,
   "metadata": {},
   "outputs": [],
   "source": [
    "single_tester(decision_trees_submission_tests.DecisionTreePart2Tests, 'test_gini_gain_restaurant_patrons')"
   ]
  },
  {
   "cell_type": "code",
   "execution_count": null,
   "metadata": {},
   "outputs": [],
   "source": [
    "single_tester(decision_trees_submission_tests.DecisionTreePart2Tests, 'test_gini_gain_restaurant_type')"
   ]
  },
  {
   "cell_type": "markdown",
   "metadata": {},
   "source": [
    "### Part 2b: Decision Tree Learning\n",
    "_[20 pts]_\n",
    "\n",
    "* File to use: **_part23_data.csv_**\n",
    "* Grading: average test accuracy over 10 rounds should be >= 70%\n",
    "\n",
    "As the size of our training set grows, it rapidly becomes impractical to build these trees by hand. We need a procedure to automagically construct these trees.\n",
    "\n",
    "For starters, let's consider the following algorithm (a variation of [C4.5](https://en.wikipedia.org/wiki/C4.5_algorithm)) for the construction of a decision tree from a given set of examples:\n",
    "1. Check for base cases:\n",
    "   1. If all elements of a list are of the same class, return a leaf node with the appropriate class label.\n",
    "   2. If a specified depth limit is reached, return a leaf labeled with the most frequent class.\n",
    "2. For each attribute alpha: evaluate the normalized gini gain gained by splitting on attribute `alpha`.\n",
    "3. Let `alpha_best` be the attribute with the highest normalized gini gain.\n",
    "4. Create a decision node that splits on `alpha_best`.\n",
    "5. Repeat on the sublists obtained by splitting on `alpha_best`, and add those nodes as children of this node\n",
    "\n",
    "First, in the `DecisionTree.__build_tree__()` method implement the above algorithm.\n",
    "Next, in `DecisionTree.classify()`, write a function to produce classifications for a list of features once your decision tree has been built.\n",
    "\n",
    "Some other helpful notes:\n",
    "1. Your features and classify should be in numpy arrays where if the dataset is (_m_ x _n_) then the features is (_m_ x _n_-1) and classify is (_m_ x _1_)\n",
    "2. These features are continuous features and you will need to split based on a threshold.\n",
    "\n",
    "How grading works:\n",
    "1. We load **_part23_data.csv_** and create our cross-validation training and test set with a `k=10` folds.  We use our own `generate_k_folds()` method.\n",
    "2. We classify the training data onto the three then fit the testing data onto the tree.\n",
    "3. We check the accuracy of your results versus the true results and we return the average of this over 10 iterations.\n",
    "\n",
    "#### Functions to complete in the `DecisionTree` class:\n",
    "1. `__build_tree__()`\n",
    "2. `classify()`\n",
    "\n",
    "Local Tests will Simply Check to make sure you can fit to 100% accuracy on the training data:"
   ]
  },
  {
   "cell_type": "code",
   "execution_count": null,
   "metadata": {},
   "outputs": [],
   "source": [
    "single_tester(decision_trees_submission_tests.DecisionTreePart2Tests, 'test_decision_tree_all_data')"
   ]
  },
  {
   "cell_type": "markdown",
   "metadata": {},
   "source": [
    "### Part 2c: Validation\n",
    "_[10 pts]_\n",
    "\n",
    "* File to use: **_part23_data.csv_**\n",
    "* Grading: average test accuracy over 10 rounds should be >= 70%\n",
    "\n",
    "In general, reserving part of your data as a test set can lead to unpredictable performance. A serendipitous choice of your training or test split could give you a very inaccurate idea of how your classifier performs. We can overcome this limitation by using k-fold cross validation.\n",
    "\n",
    "In `generate_k_folds()`, we'll split the dataset at random into k equal subsections. Then iterating on each of our k samples, we'll reserve that sample for testing and use the other k-1 for training. Averaging the results of each fold should give us a more consistent idea of how the classifier is doing across the data as a whole.\n",
    "\n",
    "How grading works:\n",
    "1. The same as 2b however, we use your `generate_k_folds()` instead of ours.\n",
    "\n",
    "#### Functions to complete in the `submission` module:\n",
    "1. `generate_k_folds()`\n"
   ]
  },
  {
   "cell_type": "code",
   "execution_count": null,
   "metadata": {},
   "outputs": [],
   "source": [
    "single_tester(decision_trees_submission_tests.DecisionTreePart2Tests, 'test_k_folds_training_set_count')"
   ]
  },
  {
   "cell_type": "code",
   "execution_count": null,
   "metadata": {},
   "outputs": [],
   "source": [
    "single_tester(decision_trees_submission_tests.DecisionTreePart2Tests, 'test_k_folds_test_set_count')"
   ]
  },
  {
   "cell_type": "markdown",
   "metadata": {},
   "source": [
    "### Part 3: Random Forests\n",
    "_[30 pts]_\n",
    "\n",
    "* File to use: **_part23_data.csv_**\n",
    "* Grading: average test accuracy over 10 rounds should be >= 75%\n",
    "\n",
    "The decision boundaries drawn by decision trees are very sharp, and fitting a decision tree of unbounded depth to a list of training examples almost inevitably leads to overfitting. In an attempt to decrease the variance of our classifier we're going to use a technique called 'Bootstrap Aggregating' (often abbreviated as 'bagging').\n",
    "\n",
    "A Random Forest is a collection of decision trees, built as follows:\n",
    "1. For every tree we're going to build:\n",
    "   1. Subsample the examples provided us (with replacement) in accordance with a provided example subsampling rate.\n",
    "   2. From the sample in the first step, choose attributes at random to learn on (in accordance with a provided attribute subsampling rate). (Without replacement)\n",
    "   3. Fit a decision tree to the subsample of data we've chosen (to a certain depth).\n",
    "\n",
    "Classification for a random forest is then done by taking a majority vote of the classifications yielded by each tree in the forest after it classifies an example.\n",
    "\n",
    "Fill in `RandomForest.fit()` to fit the decision tree as we describe above, and fill in `RandomForest.classify()` to classify a given list of examples.\n",
    "\n",
    "Your features and classify should be in numpy arrays where if the dataset is (_m_ x _n_) then the features is (_m_ x _n_-1) and classify is (_n_ x _1_).\n",
    "\n",
    "To test, we will be using a forest with 5 trees, with a depth limit of 5, example subsample rate of 0.5 and attribute subsample rate of 0.5\n",
    "\n",
    "How grading works:\n",
    "1. Similar to 2b but with the call to Random Forest.\n",
    "\n",
    "#### Functions to complete in the `RandomForest` class:\n",
    "1. `fit()`\n",
    "2. `classify()`\n",
    "\n",
    "*Hint: There Are no Unit Tests for this section, but perhaps you can check the accuracy of each individual tree (if not depth limited) as a sanity check of your implementation*"
   ]
  },
  {
   "cell_type": "code",
   "execution_count": null,
   "metadata": {},
   "outputs": [],
   "source": [
    "#Can devise some sort of local test for Forests here"
   ]
  },
  {
   "cell_type": "markdown",
   "metadata": {},
   "source": [
    "### Part 4: Challenge Classifier\n",
    "_[10 pts]_\n",
    "\n",
    "* File to use: **_challenge_train.csv_**\n",
    "* Grading: average training accuracy over 10 runs should be >= 80% and average testing accuracy over 10 runs should be >= 70%\n",
    "\n",
    "The Challenge Classifier should be implemented using some sort of a **tree structure**.  Students in the past have been able to call their `RandomForest` with different parameters. We also encourage things like boosting.\n",
    "\n",
    "You've been provided with a sample of data from a research dataset in **_challenge_train.csv_** while we have reserved a part of the dataset for testing called **_challenge_test.csv_** (which you do not have access to).\n",
    "\n",
    "To get full points for this part of the assignment, you'll need to get at least an average accuracy of 85% on the training data you have (**_challenge_train.csv_**), and at least an average accuracy of 80% on the holdout/test set (**_challenge_test.csv_**). We do provide how long it takes for your training and testing to run.\n",
    "\n",
    "#### Functions to complete in the `ChallengeClassifier` class:\n",
    "1. `__init__()`\n",
    "2. `fit()`\n",
    "3. `classify()`\n"
   ]
  },
  {
   "cell_type": "code",
   "execution_count": null,
   "metadata": {},
   "outputs": [],
   "source": [
    "#Can devise some sort of local test for challenge here"
   ]
  },
  {
   "cell_type": "markdown",
   "metadata": {},
   "source": [
    "### Part 5: Return Your name!\n",
    "_[1 pts]_\n",
    "Return your name from the function `return_your_name()`\n"
   ]
  },
  {
   "cell_type": "code",
   "execution_count": null,
   "metadata": {},
   "outputs": [],
   "source": [
    "single_tester(decision_trees_submission_tests.NameTests, 'test_name')"
   ]
  },
  {
   "cell_type": "code",
   "execution_count": null,
   "metadata": {},
   "outputs": [],
   "source": []
  }
 ],
 "metadata": {
  "kernelspec": {
   "display_name": "Python 3",
   "language": "python",
   "name": "python3"
  },
  "language_info": {
   "codemirror_mode": {
    "name": "ipython",
    "version": 3
   },
   "file_extension": ".py",
   "mimetype": "text/x-python",
   "name": "python",
   "nbconvert_exporter": "python",
   "pygments_lexer": "ipython3",
   "version": "3.6.1"
  }
 },
 "nbformat": 4,
 "nbformat_minor": 2
}
