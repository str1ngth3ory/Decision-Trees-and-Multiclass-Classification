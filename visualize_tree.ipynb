{
 "cells": [
  {
   "cell_type": "markdown",
   "metadata": {},
   "source": [
    "### Decision Tree Visualization \n",
    "\n",
    "#### Note: This Visualization Notebook is for learning and understanding decision trees and multiclassifiction. Although this will not be graded, we encourage you to use the notebook to learn more about the assignment. The sklearn (scikit-learn) library is used on this notebook, and will not be allowed to be used on the assignment. Do not call or use this library in your assignment submission file.\n",
    "\n",
    "Some students have had trouble finding a 0.17 version of graphviz for this assignment. Since the course suggests conda, the best source for a library is from https://anaconda.org. Enter this command from your ai_env Terminal, ***conda install -c conda-forge python-graphviz*** which installs version 0.19 (compatible)"
   ]
  },
  {
   "cell_type": "code",
   "execution_count": 1,
   "metadata": {},
   "outputs": [],
   "source": [
    "# Install important libraries\n",
    "from sklearn.tree import DecisionTreeClassifier, export_graphviz\n",
    "from sklearn import tree\n",
    "from sklearn.datasets import load_wine\n",
    "from IPython.display import SVG\n",
    "from graphviz import Source\n",
    "from IPython.display import display\n",
    "from submission import load_csv"
   ]
  },
  {
   "cell_type": "code",
   "execution_count": 6,
   "metadata": {},
   "outputs": [],
   "source": [
    "# Compute features and classes for the dataset for which you want to visualize\n",
    "# Just uncomment the lines for the dataset you want to visualize as a Decision Tree.\n",
    "\n",
    "## For visualizing hand_binary.csv \n",
    "features,classes = load_csv('./data/hand_binary.csv',-1)\n",
    "feat_names = ['Col0','Col1', 'Col2', 'Col3']\n",
    "class_names = ['0', '1']\n",
    "\n",
    "## For visualizing hand_multi.csv a hand build multiclass tree \n",
    "# features,classes = load_csv('./data/hand_multi.csv',-1)\n",
    "# feat_names = ['Col0','Col1', 'Col2', 'Col3']\n",
    "# class_names = ['0', '1', '2']\n",
    "\n",
    "## For visualizing simple_binary.csv \n",
    "# features,classes = load_csv('./data/simple_binary.csv',-1)\n",
    "# feat_names = ['Col0', 'Col1', 'Col2', 'Col3', 'Col4']\n",
    "# class_names = ['0', '1']\n",
    "\n",
    "## For visualizing simple_multi.csv \n",
    "# features,classes = load_csv('./data/simple_multi.csv',-1)\n",
    "# feat_names = ['Col0', 'Col1', 'Col2', 'Col3', 'Col4', 'Col5']\n",
    "# class_names = ['0', '1', '2']\n",
    "\n",
    "## For visualizing mod_complex_binary.csv \n",
    "# features,classes = load_csv('./data/mod_complex_binary.csv',-1)\n",
    "# feat_names = ['Col0', 'Col1', 'Col2', 'Col3', 'Col4', 'Col5', 'Col6']\n",
    "# class_names = ['0', '1']\n",
    "\n",
    "## For visualizing mod_complex_multi.csv \n",
    "# features,classes = load_csv('./data/mod_complex_multi.csv',-1)\n",
    "# feat_names = ['Col0', 'Col1', 'Col2', 'Col3', 'Col4', 'Col5', 'Col6', 'Col7', 'Col8', 'Col9']\n",
    "# class_names = ['0', '1', '2', '3', '4']\n",
    "\n",
    "## For visualizing mod_complex_binary.csv\n",
    "# features,classes = load_csv('./data/complex_binary.csv',-1)\n",
    "# feat_names = ['Col0', 'Col1', 'Col2', 'Col3', 'Col4', 'Col5', 'Col6', 'Col7', 'Col8', 'Col9']\n",
    "# class_names = ['0', '1']\n",
    "\n",
    "## For visualizing mod_complex_multi.csv\n",
    "# features,classes = load_csv('./data/complex_multi.csv',-1)\n",
    "# feat_names = ['Col0', 'Col1', 'Col2', 'Col3', 'Col4', 'Col5', 'Col6', 'Col7', 'Col8', 'Col9',\n",
    "#                 'Col10', 'Col11', 'Col12', 'Col13', 'Col14', 'Col15']]\n",
    "# class_names = ['0', '1', '2', '3', '4', '5', '6', '7', '8']\n",
    "\n",
    "## For visualizing part23_data.csv\n",
    "# features,classes = load_csv('part23_data.csv',-1)\n",
    "# labels = ['A1','A2','A3','A4']\n",
    "\n",
    "## For visualizing vectorize.csv dataset\n",
    "# features,classes = load_csv('vectorize.csv',0)\n",
    "# labels = ['A1','A2','A3','A4','A5','A6','A7','A8','A9','A10','A11','A12']\n",
    "\n",
    "## For visualizing challenge.csv dataset\n",
    "# features,classes = load_csv('challenge_train.csv',0)\n",
    "# labels = ['A1','A2','A3','A4','A5','A6','A7','A8','A9','A10','A11','A12','A13','A14','A15','A16','A17','A18','A19'\n",
    "#         ,'A20','A21','A22','A23','A24','A25','A26','A27','A28','A29','A30']\n"
   ]
  },
  {
   "cell_type": "code",
   "execution_count": 7,
   "metadata": {},
   "outputs": [
    {
     "data": {
      "text/plain": [
       "DecisionTreeClassifier()"
      ]
     },
     "execution_count": 7,
     "metadata": {},
     "output_type": "execute_result"
    }
   ],
   "source": [
    "# # Call sklearn decision tree classifier and fit the decision tree on the dataset.\n",
    "estimator = DecisionTreeClassifier()\n",
    "estimator.fit(features, classes)"
   ]
  },
  {
   "cell_type": "code",
   "execution_count": 8,
   "metadata": {},
   "outputs": [],
   "source": [
    "# Call graph visualization library\n",
    "graph = Source(tree.export_graphviz(estimator, out_file=None\n",
    "   , feature_names=feat_names, class_names=class_names \n",
    "   , filled = True))"
   ]
  },
  {
   "cell_type": "markdown",
   "metadata": {},
   "source": [
    "### Observations:\n",
    "Observe how the tree is splitting based on the gini index value. What does each node in the tree represent? What attributes is it choosing to split on at each level and why? How is it choosing values for the splits? Can you tell what each of the leaf nodes corresponds to? Observe the number of class samples in the leaf nodes? What does that represent? As the tree grows and contracts based on the dataset, what can you infer? What controls the growth?"
   ]
  },
  {
   "cell_type": "code",
   "execution_count": 9,
   "metadata": {
    "scrolled": false
   },
   "outputs": [
    {
     "data": {
      "image/svg+xml": [
       "<svg height=\"195pt\" viewBox=\"0.00 0.00 216.00 195.00\" width=\"216pt\" xmlns=\"http://www.w3.org/2000/svg\" xmlns:xlink=\"http://www.w3.org/1999/xlink\">\n",
       "<g class=\"graph\" id=\"graph0\" transform=\"scale(1 1) rotate(0) translate(4 191)\">\n",
       "<title>Tree</title>\n",
       "<polygon fill=\"white\" points=\"-4,4 -4,-191 212,-191 212,4 -4,4\" stroke=\"transparent\"/>\n",
       "<!-- 0 -->\n",
       "<g class=\"node\" id=\"node1\">\n",
       "<title>0</title>\n",
       "<polygon fill=\"#ffffff\" points=\"157,-187 50,-187 50,-104 157,-104 157,-187\" stroke=\"black\"/>\n",
       "<text font-family=\"Helvetica,sans-Serif\" font-size=\"14.00\" text-anchor=\"middle\" x=\"103.5\" y=\"-171.8\">Col2 &lt;= -0.918</text>\n",
       "<text font-family=\"Helvetica,sans-Serif\" font-size=\"14.00\" text-anchor=\"middle\" x=\"103.5\" y=\"-156.8\">gini = 0.5</text>\n",
       "<text font-family=\"Helvetica,sans-Serif\" font-size=\"14.00\" text-anchor=\"middle\" x=\"103.5\" y=\"-141.8\">samples = 8</text>\n",
       "<text font-family=\"Helvetica,sans-Serif\" font-size=\"14.00\" text-anchor=\"middle\" x=\"103.5\" y=\"-126.8\">value = [4, 4]</text>\n",
       "<text font-family=\"Helvetica,sans-Serif\" font-size=\"14.00\" text-anchor=\"middle\" x=\"103.5\" y=\"-111.8\">class = 0</text>\n",
       "</g>\n",
       "<!-- 1 -->\n",
       "<g class=\"node\" id=\"node2\">\n",
       "<title>1</title>\n",
       "<polygon fill=\"#399de5\" points=\"95,-68 0,-68 0,0 95,0 95,-68\" stroke=\"black\"/>\n",
       "<text font-family=\"Helvetica,sans-Serif\" font-size=\"14.00\" text-anchor=\"middle\" x=\"47.5\" y=\"-52.8\">gini = 0.0</text>\n",
       "<text font-family=\"Helvetica,sans-Serif\" font-size=\"14.00\" text-anchor=\"middle\" x=\"47.5\" y=\"-37.8\">samples = 4</text>\n",
       "<text font-family=\"Helvetica,sans-Serif\" font-size=\"14.00\" text-anchor=\"middle\" x=\"47.5\" y=\"-22.8\">value = [0, 4]</text>\n",
       "<text font-family=\"Helvetica,sans-Serif\" font-size=\"14.00\" text-anchor=\"middle\" x=\"47.5\" y=\"-7.8\">class = 1</text>\n",
       "</g>\n",
       "<!-- 0&#45;&gt;1 -->\n",
       "<g class=\"edge\" id=\"edge1\">\n",
       "<title>0-&gt;1</title>\n",
       "<path d=\"M82.65,-103.73C78.26,-95.15 73.63,-86.09 69.21,-77.46\" fill=\"none\" stroke=\"black\"/>\n",
       "<polygon fill=\"black\" points=\"72.2,-75.61 64.53,-68.3 65.97,-78.8 72.2,-75.61\" stroke=\"black\"/>\n",
       "<text font-family=\"Helvetica,sans-Serif\" font-size=\"14.00\" text-anchor=\"middle\" x=\"56.84\" y=\"-88.39\">True</text>\n",
       "</g>\n",
       "<!-- 2 -->\n",
       "<g class=\"node\" id=\"node3\">\n",
       "<title>2</title>\n",
       "<polygon fill=\"#e58139\" points=\"208,-68 113,-68 113,0 208,0 208,-68\" stroke=\"black\"/>\n",
       "<text font-family=\"Helvetica,sans-Serif\" font-size=\"14.00\" text-anchor=\"middle\" x=\"160.5\" y=\"-52.8\">gini = 0.0</text>\n",
       "<text font-family=\"Helvetica,sans-Serif\" font-size=\"14.00\" text-anchor=\"middle\" x=\"160.5\" y=\"-37.8\">samples = 4</text>\n",
       "<text font-family=\"Helvetica,sans-Serif\" font-size=\"14.00\" text-anchor=\"middle\" x=\"160.5\" y=\"-22.8\">value = [4, 0]</text>\n",
       "<text font-family=\"Helvetica,sans-Serif\" font-size=\"14.00\" text-anchor=\"middle\" x=\"160.5\" y=\"-7.8\">class = 0</text>\n",
       "</g>\n",
       "<!-- 0&#45;&gt;2 -->\n",
       "<g class=\"edge\" id=\"edge2\">\n",
       "<title>0-&gt;2</title>\n",
       "<path d=\"M124.72,-103.73C129.24,-95.06 134.01,-85.9 138.54,-77.18\" fill=\"none\" stroke=\"black\"/>\n",
       "<polygon fill=\"black\" points=\"141.65,-78.79 143.17,-68.3 135.44,-75.55 141.65,-78.79\" stroke=\"black\"/>\n",
       "<text font-family=\"Helvetica,sans-Serif\" font-size=\"14.00\" text-anchor=\"middle\" x=\"150.68\" y=\"-88.44\">False</text>\n",
       "</g>\n",
       "</g>\n",
       "</svg>"
      ],
      "text/plain": [
       "<IPython.core.display.SVG object>"
      ]
     },
     "metadata": {},
     "output_type": "display_data"
    }
   ],
   "source": [
    "# Display Decision Tree\n",
    "display(SVG(graph.pipe(format='svg')))"
   ]
  },
  {
   "cell_type": "code",
   "execution_count": null,
   "metadata": {},
   "outputs": [],
   "source": []
  }
 ],
 "metadata": {
  "kernelspec": {
   "display_name": "Python 3 (ipykernel)",
   "language": "python",
   "name": "python3"
  },
  "language_info": {
   "codemirror_mode": {
    "name": "ipython",
    "version": 3
   },
   "file_extension": ".py",
   "mimetype": "text/x-python",
   "name": "python",
   "nbconvert_exporter": "python",
   "pygments_lexer": "ipython3",
   "version": "3.7.12"
  }
 },
 "nbformat": 4,
 "nbformat_minor": 2
}